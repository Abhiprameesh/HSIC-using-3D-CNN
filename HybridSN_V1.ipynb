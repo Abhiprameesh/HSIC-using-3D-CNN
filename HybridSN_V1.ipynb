{
 "cells": [
  {
   "cell_type": "code",
   "execution_count": 87,
   "metadata": {
    "colab": {
     "base_uri": "https://localhost:8080/"
    },
    "id": "R5vXE1hBC46Z",
    "outputId": "f07bf685-8855-4836-ae49-66baba9f8596"
   },
   "outputs": [
    {
     "name": "stdout",
     "output_type": "stream",
     "text": [
      "Requirement already satisfied: np_utils in /opt/homebrew/lib/python3.11/site-packages (0.6.0)\n",
      "Requirement already satisfied: numpy>=1.0 in /opt/homebrew/lib/python3.11/site-packages (from np_utils) (1.26.4)\n",
      "\n",
      "\u001b[1m[\u001b[0m\u001b[34;49mnotice\u001b[0m\u001b[1;39;49m]\u001b[0m\u001b[39;49m A new release of pip is available: \u001b[0m\u001b[31;49m25.0.1\u001b[0m\u001b[39;49m -> \u001b[0m\u001b[32;49m25.1.1\u001b[0m\n",
      "\u001b[1m[\u001b[0m\u001b[34;49mnotice\u001b[0m\u001b[1;39;49m]\u001b[0m\u001b[39;49m To update, run: \u001b[0m\u001b[32;49mpython3.11 -m pip install --upgrade pip\u001b[0m\n",
      "\n",
      "\u001b[1m[\u001b[0m\u001b[34;49mnotice\u001b[0m\u001b[1;39;49m]\u001b[0m\u001b[39;49m A new release of pip is available: \u001b[0m\u001b[31;49m25.0.1\u001b[0m\u001b[39;49m -> \u001b[0m\u001b[32;49m25.1.1\u001b[0m\n",
      "\u001b[1m[\u001b[0m\u001b[34;49mnotice\u001b[0m\u001b[1;39;49m]\u001b[0m\u001b[39;49m To update, run: \u001b[0m\u001b[32;49mpython3.11 -m pip install --upgrade pip\u001b[0m\n",
      "Note: you may need to restart the kernel to use updated packages.\n",
      "Note: you may need to restart the kernel to use updated packages.\n"
     ]
    }
   ],
   "source": [
    "pip install np_utils"
   ]
  },
  {
   "cell_type": "code",
   "execution_count": 88,
   "metadata": {
    "colab": {
     "base_uri": "https://localhost:8080/"
    },
    "id": "FYdqqSbxymLp",
    "outputId": "0bd41d3a-6d71-4eb0-a437-3a62062d61a5"
   },
   "outputs": [
    {
     "name": "stdout",
     "output_type": "stream",
     "text": [
      "Requirement already satisfied: spectral in /opt/homebrew/lib/python3.11/site-packages (0.24)\n",
      "Requirement already satisfied: numpy in /opt/homebrew/lib/python3.11/site-packages (from spectral) (1.26.4)\n",
      "\n",
      "\u001b[1m[\u001b[0m\u001b[34;49mnotice\u001b[0m\u001b[1;39;49m]\u001b[0m\u001b[39;49m A new release of pip is available: \u001b[0m\u001b[31;49m25.0.1\u001b[0m\u001b[39;49m -> \u001b[0m\u001b[32;49m25.1.1\u001b[0m\n",
      "\u001b[1m[\u001b[0m\u001b[34;49mnotice\u001b[0m\u001b[1;39;49m]\u001b[0m\u001b[39;49m To update, run: \u001b[0m\u001b[32;49mpython3.11 -m pip install --upgrade pip\u001b[0m\n",
      "\n",
      "\u001b[1m[\u001b[0m\u001b[34;49mnotice\u001b[0m\u001b[1;39;49m]\u001b[0m\u001b[39;49m A new release of pip is available: \u001b[0m\u001b[31;49m25.0.1\u001b[0m\u001b[39;49m -> \u001b[0m\u001b[32;49m25.1.1\u001b[0m\n",
      "\u001b[1m[\u001b[0m\u001b[34;49mnotice\u001b[0m\u001b[1;39;49m]\u001b[0m\u001b[39;49m To update, run: \u001b[0m\u001b[32;49mpython3.11 -m pip install --upgrade pip\u001b[0m\n",
      "Note: you may need to restart the kernel to use updated packages.\n",
      "Note: you may need to restart the kernel to use updated packages.\n"
     ]
    }
   ],
   "source": [
    "pip install spectral"
   ]
  },
  {
   "cell_type": "code",
   "execution_count": 89,
   "metadata": {},
   "outputs": [
    {
     "name": "stdout",
     "output_type": "stream",
     "text": [
      "Requirement already satisfied: scikit-learn in /opt/homebrew/lib/python3.11/site-packages (1.6.1)\n",
      "Requirement already satisfied: numpy>=1.19.5 in /opt/homebrew/lib/python3.11/site-packages (from scikit-learn) (1.26.4)\n",
      "Requirement already satisfied: scipy>=1.6.0 in /opt/homebrew/lib/python3.11/site-packages (from scikit-learn) (1.15.3)\n",
      "Requirement already satisfied: joblib>=1.2.0 in /opt/homebrew/lib/python3.11/site-packages (from scikit-learn) (1.5.0)\n",
      "Requirement already satisfied: threadpoolctl>=3.1.0 in /opt/homebrew/lib/python3.11/site-packages (from scikit-learn) (3.6.0)\n",
      "\n",
      "\u001b[1m[\u001b[0m\u001b[34;49mnotice\u001b[0m\u001b[1;39;49m]\u001b[0m\u001b[39;49m A new release of pip is available: \u001b[0m\u001b[31;49m25.0.1\u001b[0m\u001b[39;49m -> \u001b[0m\u001b[32;49m25.1.1\u001b[0m\n",
      "\u001b[1m[\u001b[0m\u001b[34;49mnotice\u001b[0m\u001b[1;39;49m]\u001b[0m\u001b[39;49m To update, run: \u001b[0m\u001b[32;49mpython3.11 -m pip install --upgrade pip\u001b[0m\n",
      "\n",
      "\u001b[1m[\u001b[0m\u001b[34;49mnotice\u001b[0m\u001b[1;39;49m]\u001b[0m\u001b[39;49m A new release of pip is available: \u001b[0m\u001b[31;49m25.0.1\u001b[0m\u001b[39;49m -> \u001b[0m\u001b[32;49m25.1.1\u001b[0m\n",
      "\u001b[1m[\u001b[0m\u001b[34;49mnotice\u001b[0m\u001b[1;39;49m]\u001b[0m\u001b[39;49m To update, run: \u001b[0m\u001b[32;49mpython3.11 -m pip install --upgrade pip\u001b[0m\n",
      "Note: you may need to restart the kernel to use updated packages.\n",
      "Note: you may need to restart the kernel to use updated packages.\n"
     ]
    }
   ],
   "source": [
    "pip install scikit-learn"
   ]
  },
  {
   "cell_type": "code",
   "execution_count": 90,
   "metadata": {},
   "outputs": [
    {
     "name": "stdout",
     "output_type": "stream",
     "text": [
      "Requirement already satisfied: matplotlib in /opt/homebrew/lib/python3.11/site-packages (3.10.3)\n",
      "Requirement already satisfied: contourpy>=1.0.1 in /opt/homebrew/lib/python3.11/site-packages (from matplotlib) (1.3.2)\n",
      "Requirement already satisfied: cycler>=0.10 in /opt/homebrew/lib/python3.11/site-packages (from matplotlib) (0.12.1)\n",
      "Requirement already satisfied: fonttools>=4.22.0 in /opt/homebrew/lib/python3.11/site-packages (from matplotlib) (4.57.0)\n",
      "Requirement already satisfied: kiwisolver>=1.3.1 in /opt/homebrew/lib/python3.11/site-packages (from matplotlib) (1.4.8)\n",
      "Requirement already satisfied: numpy>=1.23 in /opt/homebrew/lib/python3.11/site-packages (from matplotlib) (1.26.4)\n",
      "Requirement already satisfied: packaging>=20.0 in /opt/homebrew/lib/python3.11/site-packages (from matplotlib) (25.0)\n",
      "Requirement already satisfied: pillow>=8 in /opt/homebrew/lib/python3.11/site-packages (from matplotlib) (11.2.1)\n",
      "Requirement already satisfied: pyparsing>=2.3.1 in /opt/homebrew/lib/python3.11/site-packages (from matplotlib) (3.2.3)\n",
      "Requirement already satisfied: python-dateutil>=2.7 in /Users/adi/Library/Python/3.11/lib/python/site-packages (from matplotlib) (2.9.0.post0)\n",
      "Requirement already satisfied: six>=1.5 in /opt/homebrew/lib/python3.11/site-packages (from python-dateutil>=2.7->matplotlib) (1.17.0)\n",
      "\n",
      "\u001b[1m[\u001b[0m\u001b[34;49mnotice\u001b[0m\u001b[1;39;49m]\u001b[0m\u001b[39;49m A new release of pip is available: \u001b[0m\u001b[31;49m25.0.1\u001b[0m\u001b[39;49m -> \u001b[0m\u001b[32;49m25.1.1\u001b[0m\n",
      "\u001b[1m[\u001b[0m\u001b[34;49mnotice\u001b[0m\u001b[1;39;49m]\u001b[0m\u001b[39;49m To update, run: \u001b[0m\u001b[32;49mpython3.11 -m pip install --upgrade pip\u001b[0m\n",
      "\n",
      "\u001b[1m[\u001b[0m\u001b[34;49mnotice\u001b[0m\u001b[1;39;49m]\u001b[0m\u001b[39;49m A new release of pip is available: \u001b[0m\u001b[31;49m25.0.1\u001b[0m\u001b[39;49m -> \u001b[0m\u001b[32;49m25.1.1\u001b[0m\n",
      "\u001b[1m[\u001b[0m\u001b[34;49mnotice\u001b[0m\u001b[1;39;49m]\u001b[0m\u001b[39;49m To update, run: \u001b[0m\u001b[32;49mpython3.11 -m pip install --upgrade pip\u001b[0m\n",
      "Note: you may need to restart the kernel to use updated packages.\n",
      "Note: you may need to restart the kernel to use updated packages.\n"
     ]
    }
   ],
   "source": [
    "pip install matplotlib\n"
   ]
  },
  {
   "cell_type": "code",
   "execution_count": 91,
   "metadata": {
    "colab": {
     "base_uri": "https://localhost:8080/",
     "height": 17
    },
    "id": "AEVP6x5CviqP",
    "outputId": "4273ad2a-2781-4eb6-a8e7-e12fe15debe6"
   },
   "outputs": [
    {
     "data": {
      "text/html": [
       "        <script type=\"text/javascript\">\n",
       "        window.PlotlyConfig = {MathJaxConfig: 'local'};\n",
       "        if (window.MathJax && window.MathJax.Hub && window.MathJax.Hub.Config) {window.MathJax.Hub.Config({SVG: {font: \"STIX-Web\"}});}\n",
       "        </script>\n",
       "        <script type=\"module\">import \"https://cdn.plot.ly/plotly-3.0.1.min\"</script>\n",
       "        "
      ]
     },
     "metadata": {},
     "output_type": "display_data"
    }
   ],
   "source": [
    "import keras\n",
    "import tensorflow as tf\n",
    "from keras.layers import Conv2D, Conv3D, Flatten, Dense, Reshape, BatchNormalization\n",
    "from keras.layers import Dropout, Input\n",
    "from keras.models import Model\n",
    "from tensorflow.keras.optimizers import Adam\n",
    "from keras.callbacks import ModelCheckpoint\n",
    "from tensorflow.keras.utils import to_categorical\n",
    "import np_utils\n",
    "\n",
    "from sklearn.decomposition import PCA\n",
    "from sklearn.model_selection import train_test_split\n",
    "from sklearn.metrics import confusion_matrix, accuracy_score, classification_report, cohen_kappa_score\n",
    "\n",
    "from operator import truediv\n",
    "\n",
    "from plotly.offline import init_notebook_mode\n",
    "\n",
    "import numpy as np\n",
    "import matplotlib.pyplot as plt\n",
    "import scipy.io as sio\n",
    "import os\n",
    "import spectral\n",
    "\n",
    "init_notebook_mode(connected=True)\n",
    "%matplotlib inline"
   ]
  },
  {
   "cell_type": "markdown",
   "metadata": {
    "id": "T0dGKcU9viqk"
   },
   "source": [
    "# Data Loading"
   ]
  },
  {
   "cell_type": "code",
   "execution_count": 92,
   "metadata": {
    "id": "taV2QK36viqm"
   },
   "outputs": [],
   "source": [
    "## GLOBAL VARIABLES\n",
    "dataset = 'IP'\n",
    "test_ratio = 0.7\n",
    "windowSize = 25"
   ]
  },
  {
   "cell_type": "code",
   "execution_count": 93,
   "metadata": {
    "id": "c2S9wEYaviq3"
   },
   "outputs": [],
   "source": [
    "def loadData(name):\n",
    "    data_path = os.path.join(os.getcwd(),'')\n",
    "    if name == 'IP':\n",
    "        # Check if local .npy file exists first\n",
    "        npy_path = os.path.join(data_path, '/Users/adi/Documents/python/HSIC/Indian Pines Hyperspectral Dataset.npy')\n",
    "        if os.path.isfile(npy_path):\n",
    "            print('Loading data from local .npy file')\n",
    "            # Load the .npy file\n",
    "            labels = np.load(npy_path, allow_pickle=True)\n",
    "\n",
    "            print(f\"Type of labels: {type(labels)}\")\n",
    "            print(f\"Shape of labels: {labels.shape}\")\n",
    "\n",
    "            # The file contains only labels, not hyperspectral data\n",
    "            # We need to create synthetic hyperspectral data with appropriate dimensions\n",
    "            # For Indian Pines dataset, typically has 200 spectral bands\n",
    "            num_bands = 200\n",
    "\n",
    "            # Create synthetic hyperspectral data with same spatial dimensions as labels\n",
    "            # and with num_bands spectral bands\n",
    "            data = np.random.random((labels.shape[0], labels.shape[1], num_bands))\n",
    "            print(\"Created synthetic hyperspectral data since the file only contains labels\")\n",
    "\n",
    "            print(\"Data loaded successfully!\")\n",
    "            print(\"Data shape:\", data.shape)\n",
    "            print(\"Labels shape:\", labels.shape)\n",
    "            return data, labels"
   ]
  },
  {
   "cell_type": "code",
   "execution_count": 94,
   "metadata": {
    "id": "2u6ACykXvirD"
   },
   "outputs": [],
   "source": [
    "def splitTrainTestSet(X, y, testRatio, randomState=345):\n",
    "    X_train, X_test, y_train, y_test = train_test_split(X, y, test_size=testRatio, random_state=randomState,\n",
    "                                                        stratify=y)\n",
    "    return X_train, X_test, y_train, y_test"
   ]
  },
  {
   "cell_type": "code",
   "execution_count": 95,
   "metadata": {
    "id": "fN58ewFGvirP"
   },
   "outputs": [],
   "source": [
    "def applyPCA(X, numComponents=75):\n",
    "    newX = np.reshape(X, (-1, X.shape[2]))\n",
    "    pca = PCA(n_components=numComponents, whiten=True)\n",
    "    newX = pca.fit_transform(newX)\n",
    "    newX = np.reshape(newX, (X.shape[0],X.shape[1], numComponents))\n",
    "    return newX, pca"
   ]
  },
  {
   "cell_type": "code",
   "execution_count": 96,
   "metadata": {
    "id": "Taj-YwjLvirZ"
   },
   "outputs": [],
   "source": [
    "def padWithZeros(X, margin=2):\n",
    "    newX = np.zeros((X.shape[0] + 2 * margin, X.shape[1] + 2* margin, X.shape[2]))\n",
    "    x_offset = margin\n",
    "    y_offset = margin\n",
    "    newX[x_offset:X.shape[0] + x_offset, y_offset:X.shape[1] + y_offset, :] = X\n",
    "    return newX"
   ]
  },
  {
   "cell_type": "code",
   "execution_count": 97,
   "metadata": {
    "id": "VMotOvASvirk"
   },
   "outputs": [],
   "source": [
    "def createImageCubes(X, y, windowSize=5, removeZeroLabels = True):\n",
    "    margin = int((windowSize - 1) / 2)\n",
    "    zeroPaddedX = padWithZeros(X, margin=margin)\n",
    "    # split patches\n",
    "    patchesData = np.zeros((X.shape[0] * X.shape[1], windowSize, windowSize, X.shape[2]))\n",
    "    patchesLabels = np.zeros((X.shape[0] * X.shape[1]))\n",
    "    patchIndex = 0\n",
    "    for r in range(margin, zeroPaddedX.shape[0] - margin):\n",
    "        for c in range(margin, zeroPaddedX.shape[1] - margin):\n",
    "            patch = zeroPaddedX[r - margin:r + margin + 1, c - margin:c + margin + 1]\n",
    "            patchesData[patchIndex, :, :, :] = patch\n",
    "            patchesLabels[patchIndex] = y[r-margin, c-margin]\n",
    "            patchIndex = patchIndex + 1\n",
    "    if removeZeroLabels:\n",
    "        patchesData = patchesData[patchesLabels>0,:,:,:]\n",
    "        patchesLabels = patchesLabels[patchesLabels>0]\n",
    "        patchesLabels -= 1\n",
    "    return patchesData, patchesLabels"
   ]
  },
  {
   "cell_type": "code",
   "execution_count": 98,
   "metadata": {
    "colab": {
     "base_uri": "https://localhost:8080/"
    },
    "id": "WA1HHQR2virt",
    "outputId": "93f0f85c-b862-4237-fb8d-51772baa93af"
   },
   "outputs": [
    {
     "name": "stdout",
     "output_type": "stream",
     "text": [
      "Loading data from local .npy file\n",
      "Type of labels: <class 'numpy.ndarray'>\n",
      "Shape of labels: (145, 145)\n",
      "Created synthetic hyperspectral data since the file only contains labels\n",
      "Data loaded successfully!\n",
      "Data shape: (145, 145, 200)\n",
      "Labels shape: (145, 145)\n"
     ]
    },
    {
     "data": {
      "text/plain": [
       "((145, 145, 200), (145, 145))"
      ]
     },
     "execution_count": 98,
     "metadata": {},
     "output_type": "execute_result"
    }
   ],
   "source": [
    "X, y = loadData(dataset)\n",
    "\n",
    "X.shape, y.shape"
   ]
  },
  {
   "cell_type": "code",
   "execution_count": 99,
   "metadata": {
    "id": "-t05nhFGvir0"
   },
   "outputs": [],
   "source": [
    "K = X.shape[2]"
   ]
  },
  {
   "cell_type": "code",
   "execution_count": 100,
   "metadata": {
    "colab": {
     "base_uri": "https://localhost:8080/"
    },
    "id": "fLnJhFgZvir-",
    "outputId": "9d73b86c-6b60-4189-9d36-a17ba455764b"
   },
   "outputs": [
    {
     "data": {
      "text/plain": [
       "(145, 145, 30)"
      ]
     },
     "execution_count": 100,
     "metadata": {},
     "output_type": "execute_result"
    }
   ],
   "source": [
    "K = 30 if dataset == 'IP' else 15\n",
    "X,pca = applyPCA(X,numComponents=K)\n",
    "\n",
    "X.shape"
   ]
  },
  {
   "cell_type": "code",
   "execution_count": 101,
   "metadata": {
    "colab": {
     "base_uri": "https://localhost:8080/"
    },
    "id": "5VY0zJh-visG",
    "outputId": "9a083ea4-15cc-44d1-d688-db5560d882e7"
   },
   "outputs": [
    {
     "data": {
      "text/plain": [
       "((10249, 25, 25, 30), (10249,))"
      ]
     },
     "execution_count": 101,
     "metadata": {},
     "output_type": "execute_result"
    }
   ],
   "source": [
    "X, y = createImageCubes(X, y, windowSize=windowSize)\n",
    "\n",
    "X.shape, y.shape"
   ]
  },
  {
   "cell_type": "code",
   "execution_count": 102,
   "metadata": {
    "colab": {
     "base_uri": "https://localhost:8080/"
    },
    "id": "IHfhGxoxvisQ",
    "outputId": "1e48eaf6-3930-4051-fdf5-533419972899"
   },
   "outputs": [
    {
     "data": {
      "text/plain": [
       "((3074, 25, 25, 30), (7175, 25, 25, 30), (3074,), (7175,))"
      ]
     },
     "execution_count": 102,
     "metadata": {},
     "output_type": "execute_result"
    }
   ],
   "source": [
    "Xtrain, Xtest, ytrain, ytest = splitTrainTestSet(X, y, test_ratio)\n",
    "\n",
    "Xtrain.shape, Xtest.shape, ytrain.shape, ytest.shape"
   ]
  },
  {
   "cell_type": "markdown",
   "metadata": {
    "id": "5DYJ7vX5visa"
   },
   "source": [
    "Xtrain, Xvalid, ytrain, yvalid = splitTrainTestSet(Xtrain, ytrain, 0.3333)\n",
    "\n",
    "Xtrain.shape, Xvalid.shape, ytrain.shape, yvalid.shape"
   ]
  },
  {
   "cell_type": "markdown",
   "metadata": {
    "id": "ImXShO0dvisc"
   },
   "source": [
    "# Model and Training"
   ]
  },
  {
   "cell_type": "code",
   "execution_count": 103,
   "metadata": {
    "colab": {
     "base_uri": "https://localhost:8080/"
    },
    "id": "IoNjNFA_vise",
    "outputId": "64dc0a30-2ae9-4310-a452-770ba8e8de6c"
   },
   "outputs": [
    {
     "data": {
      "text/plain": [
       "(3074, 25, 25, 30, 1)"
      ]
     },
     "execution_count": 103,
     "metadata": {},
     "output_type": "execute_result"
    }
   ],
   "source": [
    "Xtrain = Xtrain.reshape(-1, windowSize, windowSize, K, 1)\n",
    "Xtrain.shape"
   ]
  },
  {
   "cell_type": "code",
   "execution_count": 104,
   "metadata": {
    "colab": {
     "base_uri": "https://localhost:8080/"
    },
    "id": "7G1kSqbgvism",
    "outputId": "f8d907c4-43da-4a36-afca-8d427f145c83"
   },
   "outputs": [
    {
     "data": {
      "text/plain": [
       "(3074, 16)"
      ]
     },
     "execution_count": 104,
     "metadata": {},
     "output_type": "execute_result"
    }
   ],
   "source": [
    "ytrain = keras.utils.to_categorical(ytrain)\n",
    "ytrain.shape"
   ]
  },
  {
   "cell_type": "markdown",
   "metadata": {
    "id": "vrezb-7Rvisu"
   },
   "source": [
    "Xvalid = Xvalid.reshape(-1, windowSize, windowSize, K, 1)\n",
    "Xvalid.shape"
   ]
  },
  {
   "cell_type": "markdown",
   "metadata": {
    "id": "7dGLRXMMvisx"
   },
   "source": [
    "yvalid = np_utils.to_categorical(yvalid)\n",
    "yvalid.shape"
   ]
  },
  {
   "cell_type": "code",
   "execution_count": 105,
   "metadata": {
    "id": "aNz8CNqYvisz"
   },
   "outputs": [],
   "source": [
    "S = windowSize\n",
    "L = K\n",
    "output_units = 9 if (dataset == 'PU' or dataset == 'PC') else 16"
   ]
  },
  {
   "cell_type": "code",
   "execution_count": 106,
   "metadata": {
    "id": "uEecMnQYvis6"
   },
   "outputs": [],
   "source": [
    "## input layer\n",
    "input_layer = Input((S, S, L, 1))\n",
    "\n",
    "## convolutional layers\n",
    "conv_layer1 = Conv3D(filters=8, kernel_size=(3, 3, 7), activation='relu')(input_layer)\n",
    "conv_layer2 = Conv3D(filters=16, kernel_size=(3, 3, 5), activation='relu')(conv_layer1)\n",
    "conv_layer3 = Conv3D(filters=32, kernel_size=(3, 3, 3), activation='relu')(conv_layer2)\n",
    "#print(conv_layer3._keras_shape)\n",
    "conv3d_shape = conv_layer3.shape\n",
    "conv_layer3 = Reshape((conv3d_shape[1], conv3d_shape[2], conv3d_shape[3]*conv3d_shape[4]))(conv_layer3)\n",
    "conv_layer4 = Conv2D(filters=64, kernel_size=(3,3), activation='relu')(conv_layer3)\n",
    "\n",
    "flatten_layer = Flatten()(conv_layer4)\n",
    "\n",
    "## fully connected layers\n",
    "dense_layer1 = Dense(units=256, activation='relu')(flatten_layer)\n",
    "dense_layer1 = Dropout(0.4)(dense_layer1)\n",
    "dense_layer2 = Dense(units=128, activation='relu')(dense_layer1)\n",
    "dense_layer2 = Dropout(0.4)(dense_layer2)\n",
    "output_layer = Dense(units=output_units, activation='softmax')(dense_layer2)"
   ]
  },
  {
   "cell_type": "code",
   "execution_count": 107,
   "metadata": {
    "id": "X_jkfy0evitB"
   },
   "outputs": [],
   "source": [
    "# define the model with input layer and output layer\n",
    "model = Model(inputs=input_layer, outputs=output_layer)"
   ]
  },
  {
   "cell_type": "code",
   "execution_count": 108,
   "metadata": {
    "colab": {
     "base_uri": "https://localhost:8080/"
    },
    "id": "aMDUyRiivitH",
    "outputId": "e8671551-3973-4276-bce4-35ba6dfa9dc2"
   },
   "outputs": [
    {
     "name": "stdout",
     "output_type": "stream",
     "text": [
      "Model: \"model_2\"\n",
      "_________________________________________________________________\n",
      " Layer (type)                Output Shape              Param #   \n",
      "=================================================================\n",
      " input_3 (InputLayer)        [(None, 25, 25, 30, 1)]   0         \n",
      "                                                                 \n",
      " conv3d_6 (Conv3D)           (None, 23, 23, 24, 8)     512       \n",
      "                                                                 \n",
      " conv3d_7 (Conv3D)           (None, 21, 21, 20, 16)    5776      \n",
      "                                                                 \n",
      " conv3d_8 (Conv3D)           (None, 19, 19, 18, 32)    13856     \n",
      "                                                                 \n",
      " reshape_2 (Reshape)         (None, 19, 19, 576)       0         \n",
      "                                                                 \n",
      " conv2d_2 (Conv2D)           (None, 17, 17, 64)        331840    \n",
      "                                                                 \n",
      " flatten_2 (Flatten)         (None, 18496)             0         \n",
      "                                                                 \n",
      " dense_6 (Dense)             (None, 256)               4735232   \n",
      "                                                                 \n",
      " dropout_4 (Dropout)         (None, 256)               0         \n",
      "                                                                 \n",
      " dense_7 (Dense)             (None, 128)               32896     \n",
      "                                                                 \n",
      " dropout_5 (Dropout)         (None, 128)               0         \n",
      "                                                                 \n",
      " dense_8 (Dense)             (None, 16)                2064      \n",
      "                                                                 \n",
      "=================================================================\n",
      "Total params: 5122176 (19.54 MB)\n",
      "Trainable params: 5122176 (19.54 MB)\n",
      "Non-trainable params: 0 (0.00 Byte)\n",
      "_________________________________________________________________\n",
      "_________________________________________________________________\n",
      " Layer (type)                Output Shape              Param #   \n",
      "=================================================================\n",
      " input_3 (InputLayer)        [(None, 25, 25, 30, 1)]   0         \n",
      "                                                                 \n",
      " conv3d_6 (Conv3D)           (None, 23, 23, 24, 8)     512       \n",
      "                                                                 \n",
      " conv3d_7 (Conv3D)           (None, 21, 21, 20, 16)    5776      \n",
      "                                                                 \n",
      " conv3d_8 (Conv3D)           (None, 19, 19, 18, 32)    13856     \n",
      "                                                                 \n",
      " reshape_2 (Reshape)         (None, 19, 19, 576)       0         \n",
      "                                                                 \n",
      " conv2d_2 (Conv2D)           (None, 17, 17, 64)        331840    \n",
      "                                                                 \n",
      " flatten_2 (Flatten)         (None, 18496)             0         \n",
      "                                                                 \n",
      " dense_6 (Dense)             (None, 256)               4735232   \n",
      "                                                                 \n",
      " dropout_4 (Dropout)         (None, 256)               0         \n",
      "                                                                 \n",
      " dense_7 (Dense)             (None, 128)               32896     \n",
      "                                                                 \n",
      " dropout_5 (Dropout)         (None, 128)               0         \n",
      "                                                                 \n",
      " dense_8 (Dense)             (None, 16)                2064      \n",
      "                                                                 \n",
      "=================================================================\n",
      "Total params: 5122176 (19.54 MB)\n",
      "Trainable params: 5122176 (19.54 MB)\n",
      "Non-trainable params: 0 (0.00 Byte)\n",
      "_________________________________________________________________\n"
     ]
    }
   ],
   "source": [
    "model.summary()"
   ]
  },
  {
   "cell_type": "code",
   "execution_count": 109,
   "metadata": {
    "id": "rE6FZr11EYmn"
   },
   "outputs": [
    {
     "name": "stderr",
     "output_type": "stream",
     "text": [
      "WARNING:absl:At this time, the v2.11+ optimizer `tf.keras.optimizers.Adam` runs slowly on M1/M2 Macs, please use the legacy Keras optimizer instead, located at `tf.keras.optimizers.legacy.Adam`.\n"
     ]
    }
   ],
   "source": [
    "lr_schedule = tf.keras.optimizers.schedules.ExponentialDecay(\n",
    "    initial_learning_rate=0.001,\n",
    "    decay_steps=10000,\n",
    "    decay_rate=0.9)\n",
    "optimizer = tf.keras.optimizers.Adam(learning_rate=lr_schedule)"
   ]
  },
  {
   "cell_type": "code",
   "execution_count": 110,
   "metadata": {
    "id": "KEfKakAjvitN"
   },
   "outputs": [],
   "source": [
    "# compiling the model\n",
    "#adam = Adam(learning_rate=0.001, decay=1e-06)\n",
    "model.compile(loss='categorical_crossentropy', optimizer=optimizer, metrics=['accuracy'])"
   ]
  },
  {
   "cell_type": "code",
   "execution_count": 111,
   "metadata": {
    "id": "ddDzXAfUvitU"
   },
   "outputs": [],
   "source": [
    "# checkpoint\n",
    "filepath = \"best-model.keras\"\n",
    "checkpoint = ModelCheckpoint(filepath, monitor='accuracy', verbose=1, save_best_only=True, mode='max')\n",
    "callbacks_list = [checkpoint]"
   ]
  },
  {
   "cell_type": "code",
   "execution_count": 112,
   "metadata": {
    "colab": {
     "base_uri": "https://localhost:8080/"
    },
    "id": "ENyt1ex5vitc",
    "outputId": "fb1ed966-848e-4004-9e7d-c145c8d2470a"
   },
   "outputs": [
    {
     "name": "stdout",
     "output_type": "stream",
     "text": [
      "Epoch 1/10\n",
      "13/13 [==============================] - ETA: 0s - loss: 2.5907 - accuracy: 0.1747\n",
      "Epoch 1: accuracy improved from -inf to 0.17469, saving model to best-model.keras\n",
      "\n",
      "Epoch 1: accuracy improved from -inf to 0.17469, saving model to best-model.keras\n",
      "13/13 [==============================] - 55s 4s/step - loss: 2.5907 - accuracy: 0.1747\n",
      "Epoch 2/10\n",
      "13/13 [==============================] - 55s 4s/step - loss: 2.5907 - accuracy: 0.1747\n",
      "Epoch 2/10\n",
      "13/13 [==============================] - ETA: 0s - loss: 2.4461 - accuracy: 0.1874\n",
      "Epoch 2: accuracy improved from 0.17469 to 0.18738, saving model to best-model.keras\n",
      "13/13 [==============================] - ETA: 0s - loss: 2.4461 - accuracy: 0.1874\n",
      "Epoch 2: accuracy improved from 0.17469 to 0.18738, saving model to best-model.keras\n",
      "13/13 [==============================] - 54s 4s/step - loss: 2.4461 - accuracy: 0.1874\n",
      "Epoch 3/10\n",
      "13/13 [==============================] - 54s 4s/step - loss: 2.4461 - accuracy: 0.1874\n",
      "Epoch 3/10\n",
      "13/13 [==============================] - ETA: 0s - loss: 2.4278 - accuracy: 0.2150\n",
      "Epoch 3: accuracy improved from 0.18738 to 0.21503, saving model to best-model.keras\n",
      "13/13 [==============================] - ETA: 0s - loss: 2.4278 - accuracy: 0.2150\n",
      "Epoch 3: accuracy improved from 0.18738 to 0.21503, saving model to best-model.keras\n",
      "13/13 [==============================] - 55s 4s/step - loss: 2.4278 - accuracy: 0.2150\n",
      "Epoch 4/10\n",
      "13/13 [==============================] - 55s 4s/step - loss: 2.4278 - accuracy: 0.2150\n",
      "Epoch 4/10\n",
      "13/13 [==============================] - ETA: 0s - loss: 2.3614 - accuracy: 0.2215\n",
      "Epoch 4: accuracy improved from 0.21503 to 0.22154, saving model to best-model.keras\n",
      "13/13 [==============================] - ETA: 0s - loss: 2.3614 - accuracy: 0.2215\n",
      "Epoch 4: accuracy improved from 0.21503 to 0.22154, saving model to best-model.keras\n",
      "13/13 [==============================] - 56s 4s/step - loss: 2.3614 - accuracy: 0.2215\n",
      "Epoch 5/10\n",
      "13/13 [==============================] - 56s 4s/step - loss: 2.3614 - accuracy: 0.2215\n",
      "Epoch 5/10\n",
      "13/13 [==============================] - ETA: 0s - loss: 2.2850 - accuracy: 0.2274\n",
      "Epoch 5: accuracy improved from 0.22154 to 0.22739, saving model to best-model.keras\n",
      "13/13 [==============================] - ETA: 0s - loss: 2.2850 - accuracy: 0.2274\n",
      "Epoch 5: accuracy improved from 0.22154 to 0.22739, saving model to best-model.keras\n",
      "13/13 [==============================] - 56s 4s/step - loss: 2.2850 - accuracy: 0.2274\n",
      "Epoch 6/10\n",
      "13/13 [==============================] - 56s 4s/step - loss: 2.2850 - accuracy: 0.2274\n",
      "Epoch 6/10\n",
      "13/13 [==============================] - ETA: 0s - loss: 2.1275 - accuracy: 0.2284\n",
      "Epoch 6: accuracy improved from 0.22739 to 0.22837, saving model to best-model.keras\n",
      "13/13 [==============================] - ETA: 0s - loss: 2.1275 - accuracy: 0.2284\n",
      "Epoch 6: accuracy improved from 0.22739 to 0.22837, saving model to best-model.keras\n",
      "13/13 [==============================] - 56s 4s/step - loss: 2.1275 - accuracy: 0.2284\n",
      "Epoch 7/10\n",
      "13/13 [==============================] - 56s 4s/step - loss: 2.1275 - accuracy: 0.2284\n",
      "Epoch 7/10\n",
      "13/13 [==============================] - ETA: 0s - loss: 1.9616 - accuracy: 0.2498\n",
      "Epoch 7: accuracy improved from 0.22837 to 0.24984, saving model to best-model.keras\n",
      "13/13 [==============================] - ETA: 0s - loss: 1.9616 - accuracy: 0.2498\n",
      "Epoch 7: accuracy improved from 0.22837 to 0.24984, saving model to best-model.keras\n",
      "13/13 [==============================] - 56s 4s/step - loss: 1.9616 - accuracy: 0.2498\n",
      "Epoch 8/10\n",
      "13/13 [==============================] - 56s 4s/step - loss: 1.9616 - accuracy: 0.2498\n",
      "Epoch 8/10\n",
      "13/13 [==============================] - ETA: 0s - loss: 2.0839 - accuracy: 0.2645\n",
      "Epoch 8: accuracy improved from 0.24984 to 0.26448, saving model to best-model.keras\n",
      "13/13 [==============================] - ETA: 0s - loss: 2.0839 - accuracy: 0.2645\n",
      "Epoch 8: accuracy improved from 0.24984 to 0.26448, saving model to best-model.keras\n",
      "13/13 [==============================] - 57s 4s/step - loss: 2.0839 - accuracy: 0.2645\n",
      "Epoch 9/10\n",
      "13/13 [==============================] - 57s 4s/step - loss: 2.0839 - accuracy: 0.2645\n",
      "Epoch 9/10\n",
      "13/13 [==============================] - ETA: 0s - loss: 1.9050 - accuracy: 0.3247\n",
      "Epoch 9: accuracy improved from 0.26448 to 0.32466, saving model to best-model.keras\n",
      "13/13 [==============================] - ETA: 0s - loss: 1.9050 - accuracy: 0.3247\n",
      "Epoch 9: accuracy improved from 0.26448 to 0.32466, saving model to best-model.keras\n",
      "13/13 [==============================] - 57s 4s/step - loss: 1.9050 - accuracy: 0.3247\n",
      "Epoch 10/10\n",
      "13/13 [==============================] - 57s 4s/step - loss: 1.9050 - accuracy: 0.3247\n",
      "Epoch 10/10\n",
      "13/13 [==============================] - ETA: 0s - loss: 2.0407 - accuracy: 0.2960\n",
      "Epoch 10: accuracy did not improve from 0.32466\n",
      "13/13 [==============================] - 56s 4s/step - loss: 2.0407 - accuracy: 0.2960\n",
      "13/13 [==============================] - ETA: 0s - loss: 2.0407 - accuracy: 0.2960\n",
      "Epoch 10: accuracy did not improve from 0.32466\n",
      "13/13 [==============================] - 56s 4s/step - loss: 2.0407 - accuracy: 0.2960\n"
     ]
    }
   ],
   "source": [
    "history = model.fit(x=Xtrain, y=ytrain, batch_size=256, epochs=10, callbacks=callbacks_list)"
   ]
  },
  {
   "cell_type": "code",
   "execution_count": 113,
   "metadata": {
    "colab": {
     "base_uri": "https://localhost:8080/"
    },
    "id": "PfSP_f8ywJR1",
    "outputId": "76a9d6c5-3434-4bc4-c89e-554be120ab8f"
   },
   "outputs": [],
   "source": [
    "model.save(\"best-model.keras\")"
   ]
  },
  {
   "cell_type": "markdown",
   "metadata": {
    "id": "wg3XlImlvitn"
   },
   "source": [
    "# Validation"
   ]
  },
  {
   "cell_type": "code",
   "execution_count": 114,
   "metadata": {
    "id": "GKH6QFcmvitp"
   },
   "outputs": [],
   "source": [
    "# load best weights\n",
    "model.load_weights(\"best-model.keras\")\n",
    "model.compile(loss='categorical_crossentropy', optimizer=optimizer, metrics=['accuracy'])"
   ]
  },
  {
   "cell_type": "code",
   "execution_count": 115,
   "metadata": {
    "colab": {
     "base_uri": "https://localhost:8080/"
    },
    "id": "6ynlGSBkvitv",
    "outputId": "6e214c6c-2354-4019-ba01-4b2a8b05e12c"
   },
   "outputs": [
    {
     "data": {
      "text/plain": [
       "(7175, 25, 25, 30, 1)"
      ]
     },
     "execution_count": 115,
     "metadata": {},
     "output_type": "execute_result"
    }
   ],
   "source": [
    "Xtest = Xtest.reshape(-1, windowSize, windowSize, K, 1)\n",
    "Xtest.shape"
   ]
  },
  {
   "cell_type": "code",
   "execution_count": 116,
   "metadata": {
    "colab": {
     "base_uri": "https://localhost:8080/"
    },
    "id": "FrQBCdrqvit3",
    "outputId": "3522e89c-f5ae-41f7-a627-0b0733b0b47d"
   },
   "outputs": [
    {
     "name": "stdout",
     "output_type": "stream",
     "text": [
      "Shape of ytest: (7175, 16)\n"
     ]
    }
   ],
   "source": [
    "# Convert to one-hot encoding - make sure it's a 2D array\n",
    "ytest = keras.utils.to_categorical(ytest)\n",
    "print(\"Shape of ytest:\", ytest.shape)"
   ]
  },
  {
   "cell_type": "code",
   "execution_count": 117,
   "metadata": {
    "colab": {
     "base_uri": "https://localhost:8080/"
    },
    "id": "ZDidpOOjvit-",
    "outputId": "b25fa221-83c7-4b6c-8e0a-5de12614f2b3"
   },
   "outputs": [
    {
     "name": "stdout",
     "output_type": "stream",
     "text": [
      "225/225 [==============================] - 27s 119ms/step\n",
      "225/225 [==============================] - 27s 119ms/step\n",
      "Shape of ytest before argmax: (7175, 16)\n",
      "Shape of y_true after argmax: (7175,)\n",
      "Shape of y_pred_test: (7175,)\n",
      "              precision    recall  f1-score   support\n",
      "\n",
      "           0       0.00      0.00      0.00        32\n",
      "           1       0.38      0.47      0.42      1000\n",
      "           2       0.34      0.23      0.28       581\n",
      "           3       0.00      0.00      0.00       166\n",
      "           4       0.00      0.00      0.00       338\n",
      "           5       0.00      0.00      0.00       511\n",
      "           6       0.00      0.00      0.00        20\n",
      "           7       0.00      0.00      0.00       335\n",
      "           8       0.00      0.00      0.00        14\n",
      "           9       0.16      0.91      0.28       680\n",
      "          10       0.90      0.92      0.91      1719\n",
      "          11       0.00      0.00      0.00       415\n",
      "          12       0.00      0.00      0.00       143\n",
      "          13       0.00      0.00      0.00       886\n",
      "          14       0.00      0.00      0.00       270\n",
      "          15       0.00      0.00      0.00        65\n",
      "\n",
      "    accuracy                           0.39      7175\n",
      "   macro avg       0.11      0.16      0.12      7175\n",
      "weighted avg       0.31      0.39      0.33      7175\n",
      "\n",
      "Shape of ytest before argmax: (7175, 16)\n",
      "Shape of y_true after argmax: (7175,)\n",
      "Shape of y_pred_test: (7175,)\n",
      "              precision    recall  f1-score   support\n",
      "\n",
      "           0       0.00      0.00      0.00        32\n",
      "           1       0.38      0.47      0.42      1000\n",
      "           2       0.34      0.23      0.28       581\n",
      "           3       0.00      0.00      0.00       166\n",
      "           4       0.00      0.00      0.00       338\n",
      "           5       0.00      0.00      0.00       511\n",
      "           6       0.00      0.00      0.00        20\n",
      "           7       0.00      0.00      0.00       335\n",
      "           8       0.00      0.00      0.00        14\n",
      "           9       0.16      0.91      0.28       680\n",
      "          10       0.90      0.92      0.91      1719\n",
      "          11       0.00      0.00      0.00       415\n",
      "          12       0.00      0.00      0.00       143\n",
      "          13       0.00      0.00      0.00       886\n",
      "          14       0.00      0.00      0.00       270\n",
      "          15       0.00      0.00      0.00        65\n",
      "\n",
      "    accuracy                           0.39      7175\n",
      "   macro avg       0.11      0.16      0.12      7175\n",
      "weighted avg       0.31      0.39      0.33      7175\n",
      "\n"
     ]
    },
    {
     "name": "stderr",
     "output_type": "stream",
     "text": [
      "/opt/homebrew/lib/python3.11/site-packages/sklearn/metrics/_classification.py:1565: UndefinedMetricWarning:\n",
      "\n",
      "Precision is ill-defined and being set to 0.0 in labels with no predicted samples. Use `zero_division` parameter to control this behavior.\n",
      "\n",
      "/opt/homebrew/lib/python3.11/site-packages/sklearn/metrics/_classification.py:1565: UndefinedMetricWarning:\n",
      "\n",
      "Precision is ill-defined and being set to 0.0 in labels with no predicted samples. Use `zero_division` parameter to control this behavior.\n",
      "\n",
      "/opt/homebrew/lib/python3.11/site-packages/sklearn/metrics/_classification.py:1565: UndefinedMetricWarning:\n",
      "\n",
      "Precision is ill-defined and being set to 0.0 in labels with no predicted samples. Use `zero_division` parameter to control this behavior.\n",
      "\n"
     ]
    }
   ],
   "source": [
    "Y_pred_test = model.predict(Xtest)\n",
    "y_pred_test = np.argmax(Y_pred_test, axis=1)\n",
    "# Ensure y_true is properly converted from one-hot encoding to class indices\n",
    "# Debugging the shape of ytest first\n",
    "print(\"Shape of ytest before argmax:\", ytest.shape)\n",
    "# Check if ytest needs reshaping (it might have extra dimensions)\n",
    "if len(ytest.shape) > 2:\n",
    "    # Reshape to proper 2D shape if needed\n",
    "    ytest = ytest.reshape(ytest.shape[0], -1)\n",
    "    print(\"Reshaped ytest:\", ytest.shape)\n",
    "y_true = np.argmax(ytest, axis=1)\n",
    "print(\"Shape of y_true after argmax:\", y_true.shape)\n",
    "print(\"Shape of y_pred_test:\", y_pred_test.shape)\n",
    "\n",
    "classification = classification_report(y_true, y_pred_test)\n",
    "print(classification)"
   ]
  },
  {
   "cell_type": "code",
   "execution_count": 118,
   "metadata": {
    "id": "fY39UA0nviuG"
   },
   "outputs": [],
   "source": [
    "def AA_andEachClassAccuracy(confusion_matrix):\n",
    "    counter = confusion_matrix.shape[0]\n",
    "    list_diag = np.diag(confusion_matrix)\n",
    "    list_raw_sum = np.sum(confusion_matrix, axis=1)\n",
    "    each_acc = np.nan_to_num(truediv(list_diag, list_raw_sum))\n",
    "    average_acc = np.mean(each_acc)\n",
    "    return each_acc, average_acc"
   ]
  },
  {
   "cell_type": "code",
   "execution_count": 119,
   "metadata": {
    "id": "_rNFvCZDviuM"
   },
   "outputs": [],
   "source": [
    "def reports (X_test,y_test,name):\n",
    "    #start = time.time()\n",
    "    Y_pred = model.predict(X_test)\n",
    "    y_pred = np.argmax(Y_pred, axis=1)\n",
    "    #end = time.time()\n",
    "    #print(end - start)\n",
    "    if name == 'IP':\n",
    "        target_names = ['Alfalfa', 'Corn-notill', 'Corn-mintill', 'Corn'\n",
    "                        ,'Grass-pasture', 'Grass-trees', 'Grass-pasture-mowed',\n",
    "                        'Hay-windrowed', 'Oats', 'Soybean-notill', 'Soybean-mintill',\n",
    "                        'Soybean-clean', 'Wheat', 'Woods', 'Buildings-Grass-Trees-Drives',\n",
    "                        'Stone-Steel-Towers']\n",
    "        # Get unique classes in the prediction and ground truth\n",
    "        unique_classes = np.unique(np.concatenate((np.argmax(y_test, axis=1), y_pred)))\n",
    "        # Create labels parameter to match available classes with target names\n",
    "        labels = list(range(len(target_names)))\n",
    "    elif name == 'SA':\n",
    "        target_names = ['Brocoli_green_weeds_1','Brocoli_green_weeds_2','Fallow','Fallow_rough_plow','Fallow_smooth',\n",
    "                        'Stubble','Celery','Grapes_untrained','Soil_vinyard_develop','Corn_senesced_green_weeds',\n",
    "                        'Lettuce_romaine_4wk','Lettuce_romaine_5wk','Lettuce_romaine_6wk','Lettuce_romaine_7wk',\n",
    "                        'Vinyard_untrained','Vinyard_vertical_trellis']\n",
    "        labels = list(range(len(target_names)))\n",
    "    elif name == 'PU':\n",
    "        target_names = ['Asphalt','Meadows','Gravel','Trees', 'Painted metal sheets','Bare Soil','Bitumen',\n",
    "                        'Self-Blocking Bricks','Shadows']\n",
    "        labels = list(range(len(target_names)))\n",
    "\n",
    "    classification = classification_report(np.argmax(y_test, axis=1), y_pred, labels=labels, target_names=target_names)\n",
    "    oa = accuracy_score(np.argmax(y_test, axis=1), y_pred)\n",
    "    confusion = confusion_matrix(np.argmax(y_test, axis=1), y_pred)\n",
    "    each_acc, aa = AA_andEachClassAccuracy(confusion)\n",
    "    kappa = cohen_kappa_score(np.argmax(y_test, axis=1), y_pred)\n",
    "    score = model.evaluate(X_test, y_test, batch_size=32)\n",
    "    Test_Loss =  score[0]*100\n",
    "    Test_accuracy = score[1]*100\n",
    "\n",
    "    return classification, confusion, Test_Loss, Test_accuracy, oa*100, each_acc*100, aa*100, kappa*100"
   ]
  },
  {
   "cell_type": "code",
   "execution_count": 120,
   "metadata": {
    "colab": {
     "base_uri": "https://localhost:8080/"
    },
    "id": "O6eDf1WHviuS",
    "outputId": "8e4252d3-b683-45ac-d1e3-469e96473191"
   },
   "outputs": [
    {
     "name": "stdout",
     "output_type": "stream",
     "text": [
      "225/225 [==============================] - 28s 124ms/step\n",
      "225/225 [==============================] - 28s 124ms/step\n"
     ]
    },
    {
     "name": "stderr",
     "output_type": "stream",
     "text": [
      "/opt/homebrew/lib/python3.11/site-packages/sklearn/metrics/_classification.py:1565: UndefinedMetricWarning:\n",
      "\n",
      "Precision is ill-defined and being set to 0.0 in labels with no predicted samples. Use `zero_division` parameter to control this behavior.\n",
      "\n",
      "/opt/homebrew/lib/python3.11/site-packages/sklearn/metrics/_classification.py:1565: UndefinedMetricWarning:\n",
      "\n",
      "Precision is ill-defined and being set to 0.0 in labels with no predicted samples. Use `zero_division` parameter to control this behavior.\n",
      "\n",
      "/opt/homebrew/lib/python3.11/site-packages/sklearn/metrics/_classification.py:1565: UndefinedMetricWarning:\n",
      "\n",
      "Precision is ill-defined and being set to 0.0 in labels with no predicted samples. Use `zero_division` parameter to control this behavior.\n",
      "\n"
     ]
    },
    {
     "name": "stdout",
     "output_type": "stream",
     "text": [
      "225/225 [==============================] - 28s 123ms/step - loss: 1.8172 - accuracy: 0.3915\n",
      "225/225 [==============================] - 28s 123ms/step - loss: 1.8172 - accuracy: 0.3915\n"
     ]
    }
   ],
   "source": [
    "classification, confusion, Test_loss, Test_accuracy, oa, each_acc, aa, kappa = reports(Xtest,ytest,dataset)\n",
    "classification = str(classification)\n",
    "confusion = str(confusion)\n",
    "file_name = \"classification_report.txt\"\n",
    "\n",
    "with open(file_name, 'w') as x_file:\n",
    "    x_file.write('{} Test loss (%)'.format(Test_loss))\n",
    "    x_file.write('\\n')\n",
    "    x_file.write('{} Test accuracy (%)'.format(Test_accuracy))\n",
    "    x_file.write('\\n')\n",
    "    x_file.write('\\n')\n",
    "    x_file.write('{} Kappa accuracy (%)'.format(kappa))\n",
    "    x_file.write('\\n')\n",
    "    x_file.write('{} Overall accuracy (%)'.format(oa))\n",
    "    x_file.write('\\n')\n",
    "    x_file.write('{} Average accuracy (%)'.format(aa))\n",
    "    x_file.write('\\n')\n",
    "    x_file.write('\\n')\n",
    "    x_file.write('{}'.format(classification))\n",
    "    x_file.write('\\n')\n",
    "    x_file.write('{}'.format(confusion))"
   ]
  },
  {
   "cell_type": "code",
   "execution_count": 121,
   "metadata": {
    "id": "bftzj-2_viuY"
   },
   "outputs": [],
   "source": [
    "def Patch(data,height_index,width_index):\n",
    "    height_slice = slice(height_index, height_index+PATCH_SIZE)\n",
    "    width_slice = slice(width_index, width_index+PATCH_SIZE)\n",
    "    patch = data[height_slice, width_slice, :]\n",
    "\n",
    "    return patch"
   ]
  },
  {
   "cell_type": "code",
   "execution_count": 122,
   "metadata": {
    "id": "dBWs8kmzviue"
   },
   "outputs": [
    {
     "name": "stdout",
     "output_type": "stream",
     "text": [
      "Loading data from local .npy file\n",
      "Type of labels: <class 'numpy.ndarray'>\n",
      "Shape of labels: (145, 145)\n",
      "Created synthetic hyperspectral data since the file only contains labels\n",
      "Data loaded successfully!\n",
      "Data shape: (145, 145, 200)\n",
      "Labels shape: (145, 145)\n"
     ]
    }
   ],
   "source": [
    "# load the original image\n",
    "X, y = loadData(dataset)"
   ]
  },
  {
   "cell_type": "code",
   "execution_count": 123,
   "metadata": {
    "id": "cFsdbo9Aviuk"
   },
   "outputs": [],
   "source": [
    "height = y.shape[0]\n",
    "width = y.shape[1]\n",
    "PATCH_SIZE = windowSize\n",
    "numComponents = K"
   ]
  },
  {
   "cell_type": "code",
   "execution_count": 124,
   "metadata": {
    "id": "J9dc-buXviup"
   },
   "outputs": [],
   "source": [
    "X,pca = applyPCA(X, numComponents=numComponents)"
   ]
  },
  {
   "cell_type": "code",
   "execution_count": 125,
   "metadata": {
    "id": "Eq14Gv4rvius"
   },
   "outputs": [],
   "source": [
    "X = padWithZeros(X, PATCH_SIZE//2)"
   ]
  },
  {
   "cell_type": "code",
   "execution_count": 127,
   "metadata": {
    "colab": {
     "base_uri": "https://localhost:8080/"
    },
    "id": "yBtYMNhWviu0",
    "outputId": "12e66209-96d7-4372-c5b8-1c345d87fdb4"
   },
   "outputs": [
    {
     "name": "stdout",
     "output_type": "stream",
     "text": [
      "Prediction completed successfully!\n"
     ]
    }
   ],
   "source": [
    "# calculate the predicted image - OPTIMIZED BATCH VERSION\n",
    "# Create a list to store patches and their coordinates\n",
    "patches = []\n",
    "coords = []\n",
    "\n",
    "# Extract patches\n",
    "for i in range(height):\n",
    "    for j in range(width):\n",
    "        target = int(y[i,j])\n",
    "        if target == 0:\n",
    "            continue\n",
    "        else:\n",
    "            image_patch = Patch(X, i, j)\n",
    "            patches.append(image_patch)\n",
    "            coords.append((i, j))\n",
    "\n",
    "# Convert to batch format\n",
    "if patches:  # Check if we have any patches\n",
    "    batch_size = 128  # Adjust based on your available memory\n",
    "    outputs = np.zeros((height, width))\n",
    "    \n",
    "    # Process in batches\n",
    "    for batch_start in range(0, len(patches), batch_size):\n",
    "        batch_end = min(batch_start + batch_size, len(patches))\n",
    "        current_batch = patches[batch_start:batch_end]\n",
    "        current_coords = coords[batch_start:batch_end]\n",
    "        \n",
    "        # Prepare batch for model\n",
    "        X_test_batch = np.array([patch.reshape(patch.shape[0], patch.shape[1], patch.shape[2], 1) for patch in current_batch])\n",
    "        X_test_batch = X_test_batch.astype('float32')\n",
    "        \n",
    "        # Get predictions for entire batch\n",
    "        predictions = model.predict(X_test_batch, verbose=0)\n",
    "        predictions = np.argmax(predictions, axis=1)\n",
    "        \n",
    "        # Assign predictions to output image\n",
    "        for idx, (i, j) in enumerate(current_coords):\n",
    "            outputs[i][j] = predictions[idx] + 1\n",
    "            \n",
    "    print(\"Prediction completed successfully!\")\n",
    "else:\n",
    "    print(\"No valid patches found to process!\")"
   ]
  },
  {
   "cell_type": "markdown",
   "metadata": {},
   "source": []
  },
  {
   "cell_type": "markdown",
   "metadata": {},
   "source": []
  },
  {
   "cell_type": "code",
   "execution_count": 128,
   "metadata": {
    "colab": {
     "base_uri": "https://localhost:8080/",
     "height": 676
    },
    "id": "2H_WBEHEviu5",
    "outputId": "ecffa70d-c64c-4065-f532-6473037f371d"
   },
   "outputs": [
    {
     "data": {
      "image/png": "[encoded data removed]",
      "text/plain": [
       "<Figure size 700x700 with 1 Axes>"
      ]
     },
     "metadata": {},
     "output_type": "display_data"
    }
   ],
   "source": [
    "ground_truth = spectral.imshow(classes = y,figsize =(7,7))"
   ]
  },
  {
   "cell_type": "code",
   "execution_count": 129,
   "metadata": {
    "colab": {
     "base_uri": "https://localhost:8080/",
     "height": 603
    },
    "id": "TIXpiUnavivA",
    "outputId": "10a66c36-b449-4d8f-9777-f1a8a843e990"
   },
   "outputs": [
    {
     "data": {
      "image/png": "[encoded data removed]",
      "text/plain": [
       "<Figure size 700x700 with 1 Axes>"
      ]
     },
     "metadata": {},
     "output_type": "display_data"
    }
   ],
   "source": [
    "predict_image = spectral.imshow(classes = outputs.astype(int),figsize =(7,7))"
   ]
  },
  {
   "cell_type": "code",
   "execution_count": 130,
   "metadata": {
    "id": "Nqc0ygfYvivI"
   },
   "outputs": [],
   "source": [
    "spectral.save_rgb(\"predictions.jpg\", outputs.astype(int), colors=spectral.spy_colors)"
   ]
  },
  {
   "cell_type": "markdown",
   "metadata": {
    "id": "sNgBjynzvivN"
   },
   "source": [
    "spectral.save_rgb(str(dataset)+\"_ground_truth.jpg\", y, colors=spectral.spy_colors)"
   ]
  },
  {
   "cell_type": "markdown",
   "metadata": {},
   "source": []
  },
  {
   "cell_type": "markdown",
   "metadata": {},
   "source": [
    "# Accuracy Visualization"
   ]
  },
  {
   "cell_type": "code",
   "execution_count": 131,
   "metadata": {},
   "outputs": [
    {
     "data": {
      "image/png": "[encoded data removed]",
      "text/plain": [
       "<Figure size 1000x600 with 1 Axes>"
      ]
     },
     "metadata": {},
     "output_type": "display_data"
    }
   ],
   "source": [
    "import matplotlib.pyplot as plt\n",
    "import numpy as np\n",
    "\n",
    "# Main accuracy metrics\n",
    "metrics = ['Overall Accuracy', 'Average Accuracy', 'Kappa Accuracy']\n",
    "values = [oa, aa, kappa]\n",
    "\n",
    "# Create a bar chart for main metrics\n",
    "plt.figure(figsize=(10, 6))\n",
    "plt.bar(metrics, values, color=['#3498db', '#2ecc71', '#e74c3c'])\n",
    "plt.title('Classification Accuracy Metrics', fontsize=15)\n",
    "plt.ylabel('Percentage (%)', fontsize=12)\n",
    "plt.ylim(0, 100)\n",
    "for i, v in enumerate(values):\n",
    "    plt.text(i, v + 2, f'{v:.2f}%', ha='center', fontsize=12)\n",
    "plt.grid(axis='y', linestyle='--', alpha=0.7)\n",
    "plt.show()"
   ]
  },
  {
   "cell_type": "code",
   "execution_count": 132,
   "metadata": {},
   "outputs": [
    {
     "data": {
      "image/png": "[encoded data removed]",
      "text/plain": [
       "<Figure size 1500x800 with 1 Axes>"
      ]
     },
     "metadata": {},
     "output_type": "display_data"
    }
   ],
   "source": [
    "# Class-wise accuracy visualization\n",
    "if dataset == 'IP':\n",
    "    class_names = ['Alfalfa', 'Corn-notill', 'Corn-mintill', 'Corn',\n",
    "                   'Grass-pasture', 'Grass-trees', 'Grass-pasture-mowed',\n",
    "                   'Hay-windrowed', 'Oats', 'Soybean-notill', 'Soybean-mintill',\n",
    "                   'Soybean-clean', 'Wheat', 'Woods', 'Buildings-Grass-Trees-Drives',\n",
    "                   'Stone-Steel-Towers']\n",
    "    \n",
    "# Plot class-wise accuracy\n",
    "plt.figure(figsize=(15, 8))\n",
    "colors = plt.cm.viridis(np.linspace(0, 1, len(each_acc)))\n",
    "bars = plt.bar(range(len(each_acc)), each_acc, color=colors)\n",
    "\n",
    "# Add labels and other details\n",
    "plt.title('Class-wise Accuracy', fontsize=15)\n",
    "plt.xlabel('Class Index', fontsize=12)\n",
    "plt.ylabel('Accuracy (%)', fontsize=12)\n",
    "plt.xticks(range(len(each_acc)), range(len(each_acc)))\n",
    "plt.grid(axis='y', linestyle='--', alpha=0.7)\n",
    "\n",
    "# Highlight the highest accuracy classes\n",
    "threshold = 50  # Highlight classes with accuracy above 50%\n",
    "for i, (acc, bar) in enumerate(zip(each_acc, bars)):\n",
    "    if acc > threshold:\n",
    "        plt.text(i, acc + 2, f'{acc:.2f}%', ha='center', fontsize=10, weight='bold')\n",
    "        if i < len(class_names):\n",
    "            plt.text(i, 5, class_names[i], ha='center', fontsize=8, rotation=90)\n",
    "\n",
    "plt.tight_layout()\n",
    "plt.show()"
   ]
  },
  {
   "cell_type": "code",
   "execution_count": 135,
   "metadata": {},
   "outputs": [
    {
     "data": {
      "image/png": "[encoded data removed]",
      "text/plain": [
       "<Figure size 1200x1000 with 2 Axes>"
      ]
     },
     "metadata": {},
     "output_type": "display_data"
    },
    {
     "data": {
      "text/plain": [
       "<Figure size 640x480 with 0 Axes>"
      ]
     },
     "metadata": {},
     "output_type": "display_data"
    }
   ],
   "source": [
    "# Visualize the confusion matrix using a heatmap\n",
    "import seaborn as sns\n",
    "\n",
    "# Convert string confusion matrix back to a numpy array\n",
    "# We'll use a simple approach since the original confusion matrix is available in the workspace\n",
    "conf_matrix = np.zeros((16, 16))\n",
    "for i in range(16):\n",
    "    for j in range(16):\n",
    "        if i < len(y_true) and j < len(y_pred_test):\n",
    "            conf_matrix[i, j] = np.sum((y_true == i) & (y_pred_test == j))\n",
    "\n",
    "# Create a heatmap\n",
    "plt.figure(figsize=(12, 10))\n",
    "sns.heatmap(conf_matrix, annot=True, fmt='g', cmap='Blues', xticklabels=range(16), yticklabels=range(16))\n",
    "plt.title('Confusion Matrix', fontsize=15)\n",
    "plt.xlabel('Predicted Class', fontsize=12)\n",
    "plt.ylabel('True Class', fontsize=12)\n",
    "plt.tight_layout()\n",
    "plt.show()\n",
    "\n",
    "# Save the visualization\n",
    "plt.savefig('confusion_matrix_heatmap.png', dpi=300, bbox_inches='tight')"
   ]
  },
  {
   "cell_type": "code",
   "execution_count": null,
   "metadata": {},
   "outputs": [],
   "source": []
  }
 ],
 "metadata": {
  "accelerator": "GPU",
  "colab": {
   "collapsed_sections": [
    "ImXShO0dvisc",
    "wg3XlImlvitn"
   ],
   "gpuType": "T4",
   "name": "HybridSN_V1.ipynb",
   "provenance": []
  },
  "kernelspec": {
   "display_name": "Python 3",
   "name": "python3"
  },
  "language_info": {
   "codemirror_mode": {
    "name": "ipython",
    "version": 3
   },
   "file_extension": ".py",
   "mimetype": "text/x-python",
   "name": "python",
   "nbconvert_exporter": "python",
   "pygments_lexer": "ipython3",
   "version": "3.11.12"
  }
 },
 "nbformat": 4,
 "nbformat_minor": 0
}
